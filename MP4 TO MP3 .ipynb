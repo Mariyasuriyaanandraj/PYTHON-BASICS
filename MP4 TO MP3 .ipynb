{
 "cells": [
  {
   "cell_type": "code",
   "execution_count": 2,
   "id": "c4c44c80-c792-43c4-8efc-205ad21407f4",
   "metadata": {},
   "outputs": [],
   "source": [
    "import moviepy.editor as mp"
   ]
  },
  {
   "cell_type": "code",
   "execution_count": 4,
   "id": "8d30aeb6-91ee-41d0-8d13-9b60b87b8166",
   "metadata": {},
   "outputs": [
    {
     "name": "stdout",
     "output_type": "stream",
     "text": [
      "MoviePy - Writing audio in outout.mp3\n"
     ]
    },
    {
     "name": "stderr",
     "output_type": "stream",
     "text": [
      "                                                                                                                       "
     ]
    },
    {
     "name": "stdout",
     "output_type": "stream",
     "text": [
      "MoviePy - Done.\n"
     ]
    },
    {
     "name": "stderr",
     "output_type": "stream",
     "text": [
      "\r"
     ]
    }
   ],
   "source": [
    "video=mp.VideoFileClip(r\"F4489AD0015623CFEE35DC950E59F28A_video_dashinit.mp4\")\n",
    "video.audio.write_audiofile(r\"outout.mp3\")"
   ]
  },
  {
   "cell_type": "code",
   "execution_count": null,
   "id": "d62f978e-7388-4f24-bfbf-c926f2bd87c6",
   "metadata": {},
   "outputs": [],
   "source": [
    "from moviepy.editor from *\n",
    "\n",
    "def mp4_to_mp3(mp4file,mp3file):\n",
    "    try:\n",
    "        video=VideoFileClip(mp4file)\n",
    "        audio=video.audio\n",
    "        audio.write_audiofile\n"
   ]
  }
 ],
 "metadata": {
  "kernelspec": {
   "display_name": "Python 3 (ipykernel)",
   "language": "python",
   "name": "python3"
  },
  "language_info": {
   "codemirror_mode": {
    "name": "ipython",
    "version": 3
   },
   "file_extension": ".py",
   "mimetype": "text/x-python",
   "name": "python",
   "nbconvert_exporter": "python",
   "pygments_lexer": "ipython3",
   "version": "3.11.7"
  }
 },
 "nbformat": 4,
 "nbformat_minor": 5
}
